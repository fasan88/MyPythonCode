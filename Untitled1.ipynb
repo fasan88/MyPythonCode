{
  "nbformat": 4,
  "nbformat_minor": 0,
  "metadata": {
    "colab": {
      "provenance": [],
      "authorship_tag": "ABX9TyMPR79MXxhbaTuQ9pmZVN67",
      "include_colab_link": true
    },
    "kernelspec": {
      "name": "python3",
      "display_name": "Python 3"
    },
    "language_info": {
      "name": "python"
    }
  },
  "cells": [
    {
      "cell_type": "markdown",
      "metadata": {
        "id": "view-in-github",
        "colab_type": "text"
      },
      "source": [
        "<a href=\"https://colab.research.google.com/github/fasan88/MyPythonCode/blob/main/Untitled1.ipynb\" target=\"_parent\"><img src=\"https://colab.research.google.com/assets/colab-badge.svg\" alt=\"Open In Colab\"/></a>"
      ]
    },
    {
      "cell_type": "code",
      "execution_count": null,
      "metadata": {
        "colab": {
          "base_uri": "https://localhost:8080/"
        },
        "id": "CdUKT_FA2NuL",
        "outputId": "e12df914-7c25-419f-8354-f8d210641d16"
      },
      "outputs": [
        {
          "output_type": "stream",
          "name": "stdout",
          "text": [
            "hellow world!\n"
          ]
        }
      ],
      "source": [
        "print(\"hellow world!\")\n"
      ]
    },
    {
      "cell_type": "code",
      "source": [
        "num_int: int = 42\n",
        "\n",
        "print(type(num_int),\" num_int = \",num_int,)"
      ],
      "metadata": {
        "colab": {
          "base_uri": "https://localhost:8080/"
        },
        "id": "L73fxCPiSc2c",
        "outputId": "17d672dd-5f9b-44bb-ba5f-3e285f07ff05"
      },
      "execution_count": null,
      "outputs": [
        {
          "output_type": "stream",
          "name": "stdout",
          "text": [
            "<class 'int'>  num_int =  42\n"
          ]
        }
      ]
    },
    {
      "cell_type": "code",
      "source": [
        "numbers = [10, 5, 7, 2, 1]\n",
        "print(\"Original list contents:\", numbers)  # Printing original list contents.\n",
        "\n",
        "numbers.append(111)\n",
        "print(\"\\nPrevious list contents:\", numbers)\n",
        "\n",
        "numbers.pop(5)\n",
        "print(\"\\nPrevious list contents:\", numbers)"
      ],
      "metadata": {
        "colab": {
          "base_uri": "https://localhost:8080/"
        },
        "id": "477xHHmKTzjx",
        "outputId": "fefd9cd6-d343-41e8-ec74-043b4c261af0"
      },
      "execution_count": null,
      "outputs": [
        {
          "output_type": "stream",
          "name": "stdout",
          "text": [
            "Original list contents: [10, 5, 7, 2, 1]\n",
            "\n",
            "Previous list contents: [10, 5, 7, 2, 1, 111]\n",
            "\n",
            "Previous list contents: [10, 5, 7, 2, 1]\n"
          ]
        }
      ]
    }
  ]
}