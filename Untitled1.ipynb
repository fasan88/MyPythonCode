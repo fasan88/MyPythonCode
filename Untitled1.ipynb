{
  "nbformat": 4,
  "nbformat_minor": 0,
  "metadata": {
    "colab": {
      "provenance": [],
      "authorship_tag": "ABX9TyNuwWVDOdofTL1MneN1tl9b",
      "include_colab_link": true
    },
    "kernelspec": {
      "name": "python3",
      "display_name": "Python 3"
    },
    "language_info": {
      "name": "python"
    }
  },
  "cells": [
    {
      "cell_type": "markdown",
      "metadata": {
        "id": "view-in-github",
        "colab_type": "text"
      },
      "source": [
        "<a href=\"https://colab.research.google.com/github/fasan88/MyPythonCode/blob/main/Untitled1.ipynb\" target=\"_parent\"><img src=\"https://colab.research.google.com/assets/colab-badge.svg\" alt=\"Open In Colab\"/></a>"
      ]
    },
    {
      "cell_type": "code",
      "execution_count": null,
      "metadata": {
        "colab": {
          "base_uri": "https://localhost:8080/"
        },
        "id": "CdUKT_FA2NuL",
        "outputId": "e12df914-7c25-419f-8354-f8d210641d16"
      },
      "outputs": [
        {
          "output_type": "stream",
          "name": "stdout",
          "text": [
            "hellow world!\n"
          ]
        }
      ],
      "source": [
        "print(\"hellow world!\")\n"
      ]
    },
    {
      "cell_type": "code",
      "source": [
        "num_int: int = 42\n",
        "\n",
        "print(type(num_int),\" num_int = \",num_int,)"
      ],
      "metadata": {
        "colab": {
          "base_uri": "https://localhost:8080/"
        },
        "id": "L73fxCPiSc2c",
        "outputId": "17d672dd-5f9b-44bb-ba5f-3e285f07ff05"
      },
      "execution_count": null,
      "outputs": [
        {
          "output_type": "stream",
          "name": "stdout",
          "text": [
            "<class 'int'>  num_int =  42\n"
          ]
        }
      ]
    },
    {
      "cell_type": "code",
      "source": [
        "numbers = [10, 5, 7, 2, 1]\n",
        "print(\"Original list contents:\", numbers)  # Printing original list contents.\n",
        "\n",
        "numbers.append(111)\n",
        "print(\"\\nPrevious list contents:\", numbers)\n",
        "\n",
        "numbers.pop(5)\n",
        "print(\"\\nPrevious list contents:\", numbers)"
      ],
      "metadata": {
        "colab": {
          "base_uri": "https://localhost:8080/"
        },
        "id": "477xHHmKTzjx",
        "outputId": "fefd9cd6-d343-41e8-ec74-043b4c261af0"
      },
      "execution_count": null,
      "outputs": [
        {
          "output_type": "stream",
          "name": "stdout",
          "text": [
            "Original list contents: [10, 5, 7, 2, 1]\n",
            "\n",
            "Previous list contents: [10, 5, 7, 2, 1, 111]\n",
            "\n",
            "Previous list contents: [10, 5, 7, 2, 1]\n"
          ]
        }
      ]
    },
    {
      "cell_type": "markdown",
      "source": [
        "### **Guess the secret number**"
      ],
      "metadata": {
        "id": "IhjfRZgYX53l"
      }
    },
    {
      "cell_type": "code",
      "source": [
        "secret_number = 777\n",
        "\n",
        "print(\n",
        "\"\"\"\n",
        "+================================+\n",
        "| Welcome to my game, muggle!    |\n",
        "| Enter an integer number        |\n",
        "| and guess what number I've     |\n",
        "| picked for you.                |\n",
        "| So, what is the secret number? |\n",
        "+================================+\n",
        "\"\"\")\n",
        "user_number = int(input(\"Enter a number: \"))\n",
        "\n",
        "while user_number != secret_number:\n",
        "    print(\"Ha ha! You're stuck in my loop!\")\n",
        "    user_number = int(input(\"Enter a number: \"))\n",
        "else:\n",
        "    print(\"Well done, muggle! You are free now.\")"
      ],
      "metadata": {
        "id": "1GabN_c4X0TV"
      },
      "execution_count": null,
      "outputs": []
    },
    {
      "cell_type": "code",
      "source": [
        "power = 1\n",
        "for expo in range(16):\n",
        "    print(\"2 to the power of\", expo, \"is\", power)\n",
        "    power = power * 2\n"
      ],
      "metadata": {
        "colab": {
          "base_uri": "https://localhost:8080/"
        },
        "id": "6XVZH1H1rBlu",
        "outputId": "04e6ff22-becf-44e0-c5db-13846fc41497"
      },
      "execution_count": null,
      "outputs": [
        {
          "output_type": "stream",
          "name": "stdout",
          "text": [
            "2 to the power of 0 is 1\n",
            "2 to the power of 1 is 2\n",
            "2 to the power of 2 is 4\n",
            "2 to the power of 3 is 8\n",
            "2 to the power of 4 is 16\n",
            "2 to the power of 5 is 32\n",
            "2 to the power of 6 is 64\n",
            "2 to the power of 7 is 128\n",
            "2 to the power of 8 is 256\n",
            "2 to the power of 9 is 512\n",
            "2 to the power of 10 is 1024\n",
            "2 to the power of 11 is 2048\n",
            "2 to the power of 12 is 4096\n",
            "2 to the power of 13 is 8192\n",
            "2 to the power of 14 is 16384\n",
            "2 to the power of 15 is 32768\n"
          ]
        }
      ]
    },
    {
      "cell_type": "code",
      "source": [
        "\n",
        "\n",
        "valid_user_name =\"usman\"\n",
        "valid_user_password=\"123\"\n",
        "\n",
        "\n",
        "user_name = input(\"Enter your user name..\")\n",
        "user_Password = input(\"Enter your password...\")\n",
        "\n",
        "if user_name == valid_user_name and user_Password == valid_user_password:\n",
        "  print(\"Login Successful\")\n",
        "else:\n",
        "  print(\"Invalid Credentials\")"
      ],
      "metadata": {
        "colab": {
          "base_uri": "https://localhost:8080/"
        },
        "id": "28XXcjGgxkG6",
        "outputId": "a8e59516-7404-4aa6-8fcf-8b083f37675a"
      },
      "execution_count": null,
      "outputs": [
        {
          "output_type": "stream",
          "name": "stdout",
          "text": [
            "Enter your user name..usman\n",
            "Enter your password...123\n",
            "Login Successful\n"
          ]
        }
      ]
    },
    {
      "cell_type": "code",
      "source": [
        "valid_user_name =\"usman\"\n",
        "valid_user_password=\"123\"\n",
        "\n",
        "# For range  => starting to ending:  loop run\n",
        "\n",
        "for num_of_attempts in range(3):\n",
        "  user_name = input(\"Enter your user name..\")\n",
        "  user_Password = input(\"Enter your password...\")\n",
        "  if user_name == valid_user_name and user_Password == valid_user_password:\n",
        "    print(\"Login Successful\")\n",
        "    break\n",
        "  else:\n",
        "    print(\"Invalid Credentials\")"
      ],
      "metadata": {
        "colab": {
          "base_uri": "https://localhost:8080/"
        },
        "id": "Dt8ls35VyFkm",
        "outputId": "b6507ce1-a188-4ba9-e5c2-e5b617e57148"
      },
      "execution_count": null,
      "outputs": [
        {
          "output_type": "stream",
          "name": "stdout",
          "text": [
            "Enter your user name..usman\n",
            "Enter your password...123\n",
            "Login Successful\n"
          ]
        }
      ]
    },
    {
      "cell_type": "code",
      "source": [
        "print(\"The break instruction:\")\n",
        "for i in range(1, 6):\n",
        "    if i == 3:\n",
        "        break\n",
        "    print(\"Inside the loop.\", i)\n",
        "print(\"Outside the loop.\")\n"
      ],
      "metadata": {
        "colab": {
          "base_uri": "https://localhost:8080/"
        },
        "id": "580M2ar6y-Qs",
        "outputId": "cba90248-9756-4e30-f0f9-6b67c55704c6"
      },
      "execution_count": null,
      "outputs": [
        {
          "output_type": "stream",
          "name": "stdout",
          "text": [
            "The break instruction:\n",
            "Inside the loop. 1\n",
            "Inside the loop. 2\n",
            "Outside the loop.\n"
          ]
        }
      ]
    },
    {
      "cell_type": "code",
      "source": [
        "print(\"The break instruction:\")\n",
        "for i in range(1, 6):\n",
        "    if i == 3:\n",
        "        continue\n",
        "    print(\"Inside the loop.\", i)\n",
        "print(\"Outside the loop.\")"
      ],
      "metadata": {
        "id": "AAIHApPRzGEW",
        "outputId": "1b569ecb-6c7b-4120-b0c3-b3b97d3d5178",
        "colab": {
          "base_uri": "https://localhost:8080/"
        }
      },
      "execution_count": null,
      "outputs": [
        {
          "output_type": "stream",
          "name": "stdout",
          "text": [
            "The break instruction:\n",
            "Inside the loop. 1\n",
            "Inside the loop. 2\n",
            "Inside the loop. 4\n",
            "Inside the loop. 5\n",
            "Outside the loop.\n"
          ]
        }
      ]
    },
    {
      "cell_type": "markdown",
      "source": [
        "The Pretty Vowel Eater"
      ],
      "metadata": {
        "id": "XGQMxFAea-00"
      }
    },
    {
      "cell_type": "code",
      "source": [
        "word_without_vowels = \"\"\n",
        "\n",
        "\n",
        "user_word = input(\"Enter a word: \")\n",
        "user_word = user_word.upper()\n",
        "\n",
        "for letter in user_word:\n",
        "    if letter == \"A\":\n",
        "        continue\n",
        "    elif letter == \"E\":\n",
        "        continue\n",
        "    elif letter == \"I\":\n",
        "        continue\n",
        "    elif letter == \"O\":\n",
        "        continue\n",
        "    elif letter == \"U\":\n",
        "        continue\n",
        "    else:\n",
        "        word_without_vowels = letter\n",
        "        print(word_without_vowels, end = \"\")"
      ],
      "metadata": {
        "colab": {
          "base_uri": "https://localhost:8080/"
        },
        "id": "cNcHedNya8L0",
        "outputId": "e3e94f69-8464-42be-9a2f-e4cadcb64a9c"
      },
      "execution_count": null,
      "outputs": [
        {
          "output_type": "stream",
          "name": "stdout",
          "text": [
            "Enter a word: faisal\n",
            "FSL"
          ]
        }
      ]
    },
    {
      "cell_type": "markdown",
      "source": [
        "While loop Practice"
      ],
      "metadata": {
        "id": "aq7WQGacrFVD"
      }
    },
    {
      "cell_type": "code",
      "source": [
        "blocks = int(input(\"Enter the number of blocks: \"))\n",
        "\n",
        "height = 0\n",
        "\n",
        "inlayer = 1\n",
        "\n",
        "while inlayer <= blocks:\n",
        "\n",
        "    height += 1\n",
        "    blocks -= inlayer\n",
        "    inlayer += 1\n",
        "\n",
        "print(\"The height of the pyramid: \", height)\n",
        "print(\"The value of inlayer: \", inlayer)"
      ],
      "metadata": {
        "id": "O_PkWu6lrKhk"
      },
      "execution_count": null,
      "outputs": []
    }
  ]
}